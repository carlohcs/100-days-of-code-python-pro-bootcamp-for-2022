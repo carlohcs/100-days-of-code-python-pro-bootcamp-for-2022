{
 "cells": [
  {
   "cell_type": "markdown",
   "id": "dae750a8-6a94-46f7-b1da-9ca3ecb715cd",
   "metadata": {},
   "source": [
    "# Test with Jupyter Notebook"
   ]
  },
  {
   "cell_type": "code",
   "execution_count": 1,
   "id": "7e48ddd4-d432-476c-b195-9f8f9b3e4b0c",
   "metadata": {},
   "outputs": [],
   "source": [
    "x = 0"
   ]
  },
  {
   "cell_type": "code",
   "execution_count": 2,
   "id": "20a962a0-6ed0-4fcb-836c-3b2bcf1d17b2",
   "metadata": {},
   "outputs": [],
   "source": [
    "y = 1"
   ]
  },
  {
   "cell_type": "code",
   "execution_count": 3,
   "id": "4b93c0b6-bf8e-481c-845c-adcf434ae3f0",
   "metadata": {},
   "outputs": [],
   "source": [
    "z = x + y"
   ]
  },
  {
   "cell_type": "code",
   "execution_count": 4,
   "id": "eb5d0d4b-ed6f-4973-99b5-13db6974e999",
   "metadata": {},
   "outputs": [
    {
     "name": "stdout",
     "output_type": "stream",
     "text": [
      "Z is 1\n"
     ]
    }
   ],
   "source": [
    "print(\"Z is\", z)"
   ]
  },
  {
   "cell_type": "markdown",
   "id": "2453ca10-0f30-4306-852a-c87059598ddd",
   "metadata": {},
   "source": [
    "Aqui um exmplo útil: \n",
    "\n",
    "Aqui iremos plotar uma tabela fake."
   ]
  },
  {
   "cell_type": "code",
   "execution_count": 6,
   "id": "b23a7a2b-8171-4240-9282-ba487bb07e59",
   "metadata": {},
   "outputs": [],
   "source": [
    "import pandas as pd"
   ]
  },
  {
   "cell_type": "code",
   "execution_count": 8,
   "id": "440b6964-c9e9-48ff-b0ab-7e03aa592798",
   "metadata": {},
   "outputs": [],
   "source": [
    "df = pd.DataFrame({ 'CIDADE': [ 'Curitiba', 'São Paulo', 'Rio de Janeiro' ], 'VIOLÊNCIA': [ 30, 30, 40 ] })"
   ]
  },
  {
   "cell_type": "code",
   "execution_count": 9,
   "id": "e6e34c0a-0a42-477d-95a1-26e5ab48362e",
   "metadata": {},
   "outputs": [
    {
     "data": {
      "text/html": [
       "<div>\n",
       "<style scoped>\n",
       "    .dataframe tbody tr th:only-of-type {\n",
       "        vertical-align: middle;\n",
       "    }\n",
       "\n",
       "    .dataframe tbody tr th {\n",
       "        vertical-align: top;\n",
       "    }\n",
       "\n",
       "    .dataframe thead th {\n",
       "        text-align: right;\n",
       "    }\n",
       "</style>\n",
       "<table border=\"1\" class=\"dataframe\">\n",
       "  <thead>\n",
       "    <tr style=\"text-align: right;\">\n",
       "      <th></th>\n",
       "      <th>CIDADE</th>\n",
       "      <th>VIOLÊNCIA</th>\n",
       "    </tr>\n",
       "  </thead>\n",
       "  <tbody>\n",
       "    <tr>\n",
       "      <th>0</th>\n",
       "      <td>Curitiba</td>\n",
       "      <td>30</td>\n",
       "    </tr>\n",
       "    <tr>\n",
       "      <th>1</th>\n",
       "      <td>São Paulo</td>\n",
       "      <td>30</td>\n",
       "    </tr>\n",
       "    <tr>\n",
       "      <th>2</th>\n",
       "      <td>Rio de Janeiro</td>\n",
       "      <td>40</td>\n",
       "    </tr>\n",
       "  </tbody>\n",
       "</table>\n",
       "</div>"
      ],
      "text/plain": [
       "           CIDADE  VIOLÊNCIA\n",
       "0        Curitiba         30\n",
       "1       São Paulo         30\n",
       "2  Rio de Janeiro         40"
      ]
     },
     "execution_count": 9,
     "metadata": {},
     "output_type": "execute_result"
    }
   ],
   "source": [
    "df"
   ]
  },
  {
   "cell_type": "code",
   "execution_count": null,
   "id": "c47d93fc-6a35-44c5-b8d5-08198aaf5ce7",
   "metadata": {},
   "outputs": [],
   "source": []
  }
 ],
 "metadata": {
  "kernelspec": {
   "display_name": "Python 3 (ipykernel)",
   "language": "python",
   "name": "python3"
  },
  "language_info": {
   "codemirror_mode": {
    "name": "ipython",
    "version": 3
   },
   "file_extension": ".py",
   "mimetype": "text/x-python",
   "name": "python",
   "nbconvert_exporter": "python",
   "pygments_lexer": "ipython3",
   "version": "3.9.1"
  }
 },
 "nbformat": 4,
 "nbformat_minor": 5
}
